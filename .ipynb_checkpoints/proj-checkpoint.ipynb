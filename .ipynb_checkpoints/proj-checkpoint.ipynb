{
 "cells": [
  {
   "cell_type": "code",
   "execution_count": 21,
   "metadata": {},
   "outputs": [],
   "source": [
    "import numpy as np\n",
    "import pandas as pd\n",
    "import os\n",
    "import cv2\n",
    "import matplotlib.pyplot as plt\n",
    "from sklearn.model_selection import train_test_split\n",
    "import tensorflow as tf\n",
    "from tensorflow.keras import layers, models"
   ]
  },
  {
   "cell_type": "code",
   "execution_count": 22,
   "metadata": {},
   "outputs": [],
   "source": [
    "meta_path = \"cov_data/metadata.csv\"\n",
    "data_path = \"cov_data\""
   ]
  },
  {
   "cell_type": "code",
   "execution_count": 32,
   "metadata": {},
   "outputs": [
    {
     "data": {
      "text/html": [
       "<div>\n",
       "<style scoped>\n",
       "    .dataframe tbody tr th:only-of-type {\n",
       "        vertical-align: middle;\n",
       "    }\n",
       "\n",
       "    .dataframe tbody tr th {\n",
       "        vertical-align: top;\n",
       "    }\n",
       "\n",
       "    .dataframe thead th {\n",
       "        text-align: right;\n",
       "    }\n",
       "</style>\n",
       "<table border=\"1\" class=\"dataframe\">\n",
       "  <thead>\n",
       "    <tr style=\"text-align: right;\">\n",
       "      <th></th>\n",
       "      <th>fn</th>\n",
       "      <th>class</th>\n",
       "    </tr>\n",
       "  </thead>\n",
       "  <tbody>\n",
       "    <tr>\n",
       "      <th>0</th>\n",
       "      <td>covid/COVID19(308).jpg</td>\n",
       "      <td>1</td>\n",
       "    </tr>\n",
       "    <tr>\n",
       "      <th>1</th>\n",
       "      <td>covid/COVID-19 (839).jpg</td>\n",
       "      <td>1</td>\n",
       "    </tr>\n",
       "    <tr>\n",
       "      <th>2</th>\n",
       "      <td>covid/COVID-19 (105).jpg</td>\n",
       "      <td>1</td>\n",
       "    </tr>\n",
       "    <tr>\n",
       "      <th>3</th>\n",
       "      <td>covid/COVID-19 (379).jpg</td>\n",
       "      <td>1</td>\n",
       "    </tr>\n",
       "    <tr>\n",
       "      <th>4</th>\n",
       "      <td>covid/COVID19(443).jpg</td>\n",
       "      <td>1</td>\n",
       "    </tr>\n",
       "  </tbody>\n",
       "</table>\n",
       "</div>"
      ],
      "text/plain": [
       "                         fn  class\n",
       "0    covid/COVID19(308).jpg      1\n",
       "1  covid/COVID-19 (839).jpg      1\n",
       "2  covid/COVID-19 (105).jpg      1\n",
       "3  covid/COVID-19 (379).jpg      1\n",
       "4    covid/COVID19(443).jpg      1"
      ]
     },
     "execution_count": 32,
     "metadata": {},
     "output_type": "execute_result"
    }
   ],
   "source": [
    "metadata = pd.read_csv(meta_path,delimiter=',',names=['fn','class'],skiprows=1)\n",
    "metadata[:5]"
   ]
  },
  {
   "cell_type": "markdown",
   "metadata": {},
   "source": [
    "Can discard metadata? Labels are determined by folders (covid/pneum/normal).\n",
    "Can try merging normal and pneum."
   ]
  },
  {
   "cell_type": "markdown",
   "metadata": {},
   "source": [
    "Look into different ways to resize (keras resize tutorial)"
   ]
  },
  {
   "cell_type": "code",
   "execution_count": 24,
   "metadata": {},
   "outputs": [],
   "source": [
    "def load_image(filename: str, sizeX: int=256, sizeY: int=256):\n",
    "    img = cv2.imread(filename)\n",
    "    if img is None:\n",
    "        pass\n",
    "    else:\n",
    "        img = np.array(cv2.resize(img, (sizeX, sizeY)), dtype='float32')\n",
    "    return img"
   ]
  },
  {
   "cell_type": "code",
   "execution_count": 83,
   "metadata": {},
   "outputs": [],
   "source": [
    "def load_data(data_path: str, meta_path: str, norm: bool = True):\n",
    "    metadata = pd.read_csv(meta_path,delimiter=',',names=['fn','class'],skiprows=1).to_numpy()\n",
    "    images, classes = [], []\n",
    "    for fn_cl in metadata:\n",
    "        fn = fn_cl[0]\n",
    "        cl = fn_cl[1]\n",
    "        im = load_image('/'.join([data_path, fn]))\n",
    "        if im is None:\n",
    "            continue\n",
    "        images.append(np.array(im) / 256 if norm else np.array(im))\n",
    "        classes.append(cl)\n",
    "    return np.array(images),np.array(classes)\n",
    "    # df = pd.DataFrame(images, columns=['img'])\n",
    "    # df['fn'] = filenames\n",
    "    # return pd.merge(left=df, right=metadata, on='fn').drop('fn',axis=1)"
   ]
  },
  {
   "cell_type": "code",
   "execution_count": 43,
   "metadata": {},
   "outputs": [],
   "source": [
    "images_ = pd.DataFrame([(load_image('/'.join([data_path, fn])),fn) for fn in metadata['fn']],columns=['img','fn'])"
   ]
  },
  {
   "cell_type": "code",
   "execution_count": 65,
   "metadata": {},
   "outputs": [
    {
     "data": {
      "text/plain": [
       "(3709,)"
      ]
     },
     "execution_count": 65,
     "metadata": {},
     "output_type": "execute_result"
    }
   ],
   "source": [
    "images_ = images_.dropna()\n",
    "images_['img'].to_numpy().shape"
   ]
  },
  {
   "cell_type": "code",
   "execution_count": 42,
   "metadata": {},
   "outputs": [
    {
     "name": "stdout",
     "output_type": "stream",
     "text": [
      "covid/COVID19(308).jpg\n",
      "1\n"
     ]
    }
   ],
   "source": [
    "for a in metadata['fn'], metadata['class']:\n",
    "    print(a[0])"
   ]
  },
  {
   "cell_type": "code",
   "execution_count": 85,
   "metadata": {},
   "outputs": [
    {
     "name": "stdout",
     "output_type": "stream",
     "text": [
      "(3709, 256, 256, 3)\n",
      "(3709,)\n"
     ]
    }
   ],
   "source": [
    "X, y = load_data(data_path, meta_path)\n",
    "print(X.shape)\n",
    "print(y.shape)"
   ]
  },
  {
   "cell_type": "code",
   "execution_count": 84,
   "metadata": {},
   "outputs": [
    {
     "name": "stdout",
     "output_type": "stream",
     "text": [
      "(1525,)\n",
      "(1525,)\n",
      "(659,)\n"
     ]
    }
   ],
   "source": [
    "print(y[y==0].shape)\n",
    "print(y[y==1].shape)\n",
    "print(y[y==2].shape)"
   ]
  },
  {
   "cell_type": "code",
   "execution_count": 86,
   "metadata": {},
   "outputs": [],
   "source": [
    "X_train, X_test, y_train, y_test = train_test_split(X, y, test_size=0.2, random_state=1)"
   ]
  },
  {
   "cell_type": "code",
   "execution_count": 87,
   "metadata": {},
   "outputs": [
    {
     "data": {
      "text/plain": [
       "<matplotlib.image.AxesImage at 0x275f6569f10>"
      ]
     },
     "execution_count": 87,
     "metadata": {},
     "output_type": "execute_result"
    },
    {
     "data": {
      "image/png": "[encoded data removed]",
      "text/plain": [
       "<Figure size 432x288 with 1 Axes>"
      ]
     },
     "metadata": {
      "needs_background": "light"
     },
     "output_type": "display_data"
    }
   ],
   "source": [
    "plt.imshow(X_train[0])"
   ]
  },
  {
   "cell_type": "code",
   "execution_count": 88,
   "metadata": {},
   "outputs": [],
   "source": [
    "X_train_norm, X_test_norm = tf.convert_to_tensor(X_train), tf.convert_to_tensor(X_test)"
   ]
  },
  {
   "cell_type": "code",
   "execution_count": 89,
   "metadata": {},
   "outputs": [
    {
     "data": {
      "text/plain": [
       "2"
      ]
     },
     "execution_count": 89,
     "metadata": {},
     "output_type": "execute_result"
    }
   ],
   "source": [
    "y_train[0]"
   ]
  },
  {
   "cell_type": "code",
   "execution_count": 90,
   "metadata": {},
   "outputs": [],
   "source": [
    "model = models.Sequential()\n",
    "model.add(layers.Conv2D(filters=32,kernel_size=(3,3),activation='relu',input_shape=(256,256,3)))\n",
    "model.add(layers.MaxPooling2D(pool_size=(2,2)))\n",
    "model.add(layers.Conv2D(filters=64,kernel_size=(3,3),activation='relu'))\n",
    "model.add(layers.MaxPooling2D(pool_size=(2,2)))\n",
    "model.add(layers.Conv2D(filters=64,kernel_size=(3,3),activation='relu'))\n",
    "model.add(layers.Flatten())\n",
    "model.add(layers.Dense(64, activation='relu'))\n",
    "model.add(layers.Dense(3, activation='softmax'))"
   ]
  },
  {
   "cell_type": "code",
   "execution_count": 92,
   "metadata": {},
   "outputs": [],
   "source": [
    "model.compile(optimizer='adam',\n",
    "              loss=tf.keras.losses.SparseCategoricalCrossentropy(from_logits=True),\n",
    "              metrics=['accuracy'])"
   ]
  },
  {
   "cell_type": "code",
   "execution_count": 93,
   "metadata": {},
   "outputs": [
    {
     "name": "stdout",
     "output_type": "stream",
     "text": [
      "Epoch 1/10\n",
      "28/93 [========>.....................] - ETA: 1:09 - loss: 1.2493 - accuracy: 0.5569"
     ]
    }
   ],
   "source": [
    "history = model.fit(X_train_norm, y_train, epochs=10, \n",
    "                    validation_data=(X_test_norm, y_test))"
   ]
  },
  {
   "cell_type": "markdown",
   "metadata": {},
   "source": [
    "LOADING FROM FOLDERS: 800 more images, but may contain mistakes (otherwise why would they skip some images in metadata)"
   ]
  },
  {
   "cell_type": "code",
   "execution_count": null,
   "metadata": {},
   "outputs": [],
   "source": [
    "images_covid = [load_image('/'.join([data_path, 'covid', fn])) for fn in os.listdir('C:/Users/xps/unipd/hda/C4/proj/cov_data/covid')]\n",
    "images_pneum = [load_image('/'.join([data_path, 'pneumonia', fn])) for fn in os.listdir('C:/Users/xps/unipd/hda/C4/proj/cov_data/pneumonia')]\n",
    "images_norm = [load_image('/'.join([data_path, 'normal', fn])) for fn in os.listdir('C:/Users/xps/unipd/hda/C4/proj/cov_data/normal')]\n",
    "images_os = images_covid + images_pneum + images_norm"
   ]
  }
 ],
 "metadata": {
  "interpreter": {
   "hash": "edb785b520f3628718c6f63b0193778fc09e531943076d4d93ac8ed296d34b79"
  },
  "kernelspec": {
   "display_name": "Python 3 (ipykernel)",
   "language": "python",
   "name": "python3"
  },
  "language_info": {
   "codemirror_mode": {
    "name": "ipython",
    "version": 3
   },
   "file_extension": ".py",
   "mimetype": "text/x-python",
   "name": "python",
   "nbconvert_exporter": "python",
   "pygments_lexer": "ipython3",
   "version": "3.9.7"
  }
 },
 "nbformat": 4,
 "nbformat_minor": 2
}
